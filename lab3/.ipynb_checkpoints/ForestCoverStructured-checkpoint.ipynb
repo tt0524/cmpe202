{
 "cells": [
  {
   "cell_type": "code",
   "execution_count": 135,
   "metadata": {},
   "outputs": [],
   "source": [
    "import numpy as np\n",
    "import pandas as pd\n",
    "from sklearn.cross_validation import train_test_split\n",
    "import sklearn\n",
    "import matplotlib.pyplot as plt\n",
    "import matplotlib as mpl\n",
    "import seaborn as sns\n",
    "from sklearn.ensemble import ExtraTreesClassifier\n",
    "from sklearn.feature_selection import SelectFromModel\n",
    "from sklearn.tree import DecisionTreeClassifier\n",
    "from sklearn.ensemble import RandomForestClassifier\n",
    "from sklearn.linear_model import LogisticRegression\n",
    "from sklearn.metrics import accuracy_score\n",
    "from sklearn.feature_selection import SelectKBest\n",
    "from sklearn.feature_selection import RFE\n",
    "from sklearn.feature_selection import f_classif\n",
    "from sklearn.model_selection import cross_val_score\n",
    "from sklearn.decomposition import PCA\n",
    "from sklearn.metrics import roc_auc_score\n",
    "from sklearn.metrics import precision_recall_fscore_support\n",
    "from sklearn.metrics import matthews_corrcoef\n",
    "from sklearn.metrics import mean_squared_error"
   ]
  },
  {
   "cell_type": "code",
   "execution_count": 200,
   "metadata": {},
   "outputs": [],
   "source": [
    "column_models = [\"model\",\"test_percentage\",\"Feature Selection Model\",\"Accuracy\",\"K Fold Score\",\"Precision\",\"Recall\",\"F1 score\",\"MSE\"]\n",
    "column_features = [\"Feature_sel_model\",\"F1\",\"F2\",\"F3\",\"F4\",\"F5\",\"F6\",\"F7\",\"F8\",\"F9\",\"F10\",\"F11\"]\n",
    "\n",
    "test_percentage = 0.2 #populate from request\n",
    "options_checked = [0,1,2] #populate from request\n",
    "df = pd.read_csv('covtype.csv')\n",
    "models = pd.DataFrame(columns=column_models)\n",
    "feature_selec = pd.DataFrame(columns=column_features)\n",
    "row = []\n",
    "row_feat = []\n",
    "location = 0\n",
    "\n",
    "importances = np.array([])\n",
    "indices = np.array([])\n",
    "std = np.array([])\n",
    "New_features = np.array([])\n",
    "\n",
    "AccuracyPCA = [0.41420617367882068,0.91408139204667693,0.92150805056668073,0.92231697976816429,0.92491587996867553,0.92163713501372602]\n",
    "AccuracyKBest = [0.67370033475899938,0.67431133447501357,0.92663700592927889,0.9395884787828197,0.94029414042666715,0.94045764739292448]\n",
    "AccuracyRFE = [0.51901413904976634,0.5770160839221018,0.62259149935888058,0.65008648657952028,0.65430324518299876,0.93994991523454641]\n",
    "No_Components = [1,11,22,33,44,53]\n",
    "AccuracyETC = []\n",
    "#print(df.describe(include = 'all'))"
   ]
  },
  {
   "cell_type": "code",
   "execution_count": 137,
   "metadata": {
    "collapsed": true
   },
   "outputs": [],
   "source": [
    "def test_split(test_percentage,dataframe):\n",
    "    train,test = train_test_split(df,test_size=test_percentage,random_state=999)\n",
    "    print(\"test_split\")\n",
    "    \n",
    "    return test,train"
   ]
  },
  {
   "cell_type": "code",
   "execution_count": 138,
   "metadata": {
    "collapsed": true
   },
   "outputs": [],
   "source": [
    "def train_split(test_percentage,dataframe):\n",
    "    train,test = train_test_split(df,test_size=test_percentage,random_state=999)\n",
    "    print(\"train_split\")\n",
    "    return train"
   ]
  },
  {
   "cell_type": "code",
   "execution_count": 139,
   "metadata": {
    "collapsed": true
   },
   "outputs": [],
   "source": [
    "def univariate(feat,labl,noofcomponents):\n",
    "    del row_feat[:]\n",
    "    row.append(\"univariate\")\n",
    "    row_feat.append(\"univariate\")\n",
    "    clf = SelectKBest(score_func=f_classif, k=noofcomponents)\n",
    "    clf.fit(feat, labl)\n",
    "    return clf"
   ]
  },
  {
   "cell_type": "code",
   "execution_count": 140,
   "metadata": {
    "collapsed": true
   },
   "outputs": [],
   "source": [
    "def recursive_feature_elimination(feat,labl,noofcomponents):\n",
    "    del row_feat[:]\n",
    "    row.append(\"recursive_feature_elimination\")\n",
    "    row_feat.append(\"recursive_feature_elimination\")\n",
    "    model = LogisticRegression()\n",
    "    rfe = RFE(model, noofcomponents)\n",
    "    rfe.fit(feat, labl)\n",
    "    return rfe"
   ]
  },
  {
   "cell_type": "code",
   "execution_count": 141,
   "metadata": {
    "collapsed": true
   },
   "outputs": [],
   "source": [
    "def principal_component_Analysis(feat,labl,noofcomponents):\n",
    "    del row_feat[:]\n",
    "    row.append(\"principal_component_Analysis\")\n",
    "    row_feat.append(\"principal_component_Analysis\")\n",
    "    \n",
    "    \n",
    "    pca = PCA(n_components=noofcomponents)\n",
    "    \n",
    "    #pca.fit(feat, labl)\n",
    "    clf = pca.fit(feat, labl)\n",
    "    #model = SelectFromModel(clf, prefit=True)\n",
    "    return clf"
   ]
  },
  {
   "cell_type": "code",
   "execution_count": 189,
   "metadata": {
    "collapsed": true
   },
   "outputs": [],
   "source": [
    "def feature_importance(feat,labl):\n",
    "    del row_feat[:]\n",
    "    row.append(\"feature_importance\")\n",
    "    row_feat.append(\"feature_importance\")\n",
    "    etc = ExtraTreesClassifier()\n",
    "    clf = etc.fit(feat, labl)\n",
    "    importances = clf.feature_importances_\n",
    "    std = np.std([tree.feature_importances_ for tree in clf.estimators_],\n",
    "             axis=0)\n",
    "    indices = np.argsort(importances)[::-1]\n",
    "    print(\"indexes::\",indices)\n",
    "    model = SelectFromModel(clf, prefit=True)\n",
    "    return model,indices,importances,std"
   ]
  },
  {
   "cell_type": "code",
   "execution_count": 191,
   "metadata": {
    "collapsed": true
   },
   "outputs": [],
   "source": [
    "def feature_selection_model(train_set,feat_slct,components):\n",
    "    print(\"feature_selection_model\")\n",
    "    features = train_set.iloc[:,0:54]\n",
    "    label = train_set['Cover_Type']\n",
    "    #if(int(feat_slct)==0):\n",
    "     #   clf = univariate(feat = features,labl = label)\n",
    "    #elif(int(feat_slct)==1):\n",
    "     #   clf = recursive_feature_elimination(feat = features,labl = label)\n",
    "    #elif(int(feat_slct)==2):\n",
    "    clf,indices,importances,std = feature_importance(feat = features,labl = label)\n",
    "    #else:\n",
    "     #   clf = feature_importance(feat = features,labl = label)\n",
    "    return clf,indices,importances,std"
   ]
  },
  {
   "cell_type": "code",
   "execution_count": 144,
   "metadata": {},
   "outputs": [],
   "source": [
    "def compute_metrics(classifier,Train_features,Test_features,test,train):\n",
    "    label = train['Cover_Type']\n",
    "    fit=classifier.fit(Train_features,label)\n",
    "    pred=fit.predict(Test_features)\n",
    "    Model.append(classifier.__class__.__name__)\n",
    "    Accuracy.append(accuracy_score(test['Cover_Type'],pred))\n",
    "    print('Accuracy of '+classifier.__class__.__name__ +' is '+str(accuracy_score(test['Cover_Type'],pred)))\n",
    "    AccuracyETC.append(accuracy_score(test['Cover_Type'],pred))\n",
    "    #scores = cross_val_score(classifier, df.iloc[:,0:54], df['Cover_Type'], cv=10, scoring=\"accuracy\")\n",
    "    #print(\"Accuracy: %0.2f (+/- %0.2f)\" % (scores.mean(), scores.std() * 2))\n",
    "   # row.append(accuracy_score(test['Cover_Type'],pred))\n",
    "    #row.append(0.4)\n",
    "    #prf1 = (precision_recall_fscore_support(test['Cover_Type'],pred, average='macro' ))\n",
    "    #for i in range(len(list(prf1))-1):\n",
    "     #   row.append(list(prf1)[i])\n",
    "    #row.append(mean_squared_error(test['Cover_Type'],pred, multioutput='raw_values'))"
   ]
  },
  {
   "cell_type": "code",
   "execution_count": 159,
   "metadata": {
    "collapsed": true
   },
   "outputs": [],
   "source": [
    "def return_features(model,train,test):\n",
    "    Train_features = model.transform(train.iloc[:,0:54])\n",
    "    \n",
    "    Test_features = model.transform(test.iloc[:,0:54])\n",
    "    New_features = Train_features\n",
    "    print(\"New_features\",New_features.shape)\n",
    "    label = train['Cover_Type']\n",
    "    return Train_features,Test_features,label"
   ]
  },
  {
   "cell_type": "code",
   "execution_count": 160,
   "metadata": {
    "collapsed": true
   },
   "outputs": [],
   "source": [
    "def features_extracted(model):\n",
    "    features = []\n",
    "    feat_labels = list(df.columns.values)\n",
    "    for feature_list_index in model.get_support(indices=True):\n",
    "        print(feat_labels[feature_list_index])\n",
    "        row_feat.append(feat_labels[feature_list_index])\n",
    "        features.append(feat_labels[feature_list_index])\n",
    "        "
   ]
  },
  {
   "cell_type": "markdown",
   "metadata": {},
   "source": [
    "###### Computing Accuracy"
   ]
  },
  {
   "cell_type": "code",
   "execution_count": 192,
   "metadata": {},
   "outputs": [],
   "source": [
    "def compute_accuracy(classify):\n",
    "    #New_features = select_train_features()\n",
    "    #Test_features = select_test_features()\n",
    "    test_splt,train_splt = test_split(test_percentage,df)\n",
    "    #train_splt = train_split(test_percentage,df)\n",
    "    \n",
    "    for i in range(1):\n",
    "        \n",
    "        mod,indices,importances,std = feature_selection_model(train_set = test_splt,feat_slct = int(i),components = No_Components[i])\n",
    "        #if(int(i)!=2):\n",
    "        features_extracted(model = mod)\n",
    "        Train_feat,Test_feat,label_Y = return_features(model = mod,train = train_splt,test = test_splt)\n",
    "       # compute_metrics(classifier = classify, Train_features = Train_feat, Test_features = Test_feat, test = test_splt, train = train_splt)\n",
    "       # location = len(models) +1\n",
    "        #location_feat = len(feature_selec) +1\n",
    "        #models.loc[location] =row\n",
    "        #if(int(i)!=2):\n",
    "         #   feature_selec.loc[location_feat] = row_feat\n",
    "        del row[2:]\n",
    "        del row_feat[:]\n",
    "   # print(model.get_support())\n",
    "    return Train_feat,indices,importances,std\n",
    "   # print(pd.DataFrame(New_features))\n",
    "    \n",
    "    \n",
    "    \n",
    "    \n",
    "    \n",
    "    "
   ]
  },
  {
   "cell_type": "code",
   "execution_count": 162,
   "metadata": {
    "collapsed": true
   },
   "outputs": [],
   "source": [
    "def DecisionTree():\n",
    "    print(\"DecisionTree\")\n",
    "    clf = DecisionTreeClassifier()\n",
    "    del row[:]\n",
    "    row.append('DecisionTree')\n",
    "    row.append(0.2)\n",
    "    return compute_accuracy(classify = clf)\n",
    "    "
   ]
  },
  {
   "cell_type": "code",
   "execution_count": 163,
   "metadata": {
    "collapsed": true
   },
   "outputs": [],
   "source": [
    "def RandomForest():\n",
    "    print(\"RandomForest\")\n",
    "    clf = RandomForestClassifier(n_estimators=200)\n",
    "    del row[:]\n",
    "    row.append('RandomForest')\n",
    "    row.append(0.2)\n",
    "    compute_accuracy(classify = clf)\n",
    "    "
   ]
  },
  {
   "cell_type": "code",
   "execution_count": 164,
   "metadata": {
    "collapsed": true
   },
   "outputs": [],
   "source": [
    "def Logistic():\n",
    "    print(\"Logistic\")\n",
    "    clf = LogisticRegression(C=0.000000001,solver='liblinear',max_iter=200)\n",
    "    del row[:]\n",
    "    row.append('Logistic')\n",
    "    row.append(0.2)\n",
    "    compute_accuracy(classify = clf)\n",
    "    "
   ]
  },
  {
   "cell_type": "code",
   "execution_count": 201,
   "metadata": {},
   "outputs": [
    {
     "name": "stdout",
     "output_type": "stream",
     "text": [
      "0\n",
      "DecisionTree\n",
      "test_split\n",
      "feature_selection_model\n",
      "indexes:: [ 0  5  9  3  4  1  7  8  6  2 13 35 23 52 25 12 36 17 10 15 51 53 11 45 26\n",
      " 42 37 19 46 16 24 43 44 14 30 33 48 47 29 32 40 34 39 31 50 18 27 41 38 22\n",
      " 49 21 20 28]\n",
      "Elevation\n",
      "Aspect\n",
      "Slope\n",
      "Horizontal_Distance_To_Hydrology\n",
      "Vertical_Distance_To_Hydrology\n",
      "Horizontal_Distance_To_Roadways\n",
      "Hillshade_9am\n",
      "Hillshade_Noon\n",
      "Hillshade_3pm\n",
      "Horizontal_Distance_To_Fire_Points\n",
      "Wilderness_Area4\n",
      "New_features (464809, 11)\n",
      "1\n",
      "2\n",
      "(464809, 11)\n",
      "(464809, 11)\n"
     ]
    }
   ],
   "source": [
    "#classifiers = [\"DecisionTreeClassifier\",\"RandomForestClassifier\",\"LogisticRegression\"]\n",
    "Model = []\n",
    "Accuracy = []\n",
    "p = np.array([])\n",
    "ind = np.array([])\n",
    "imp = np.array([])\n",
    "dev = np.array([])\n",
    "\n",
    "for option in options_checked:\n",
    "    print(option)\n",
    "    if(option == 0):\n",
    "        p,ind,imp,dev = DecisionTree()\n",
    "    #elif(option == 1):\n",
    "     #   RandomForest()\n",
    "    #else:\n",
    "     #   Logistic()\n",
    "    \n",
    "print(p.shape)\n",
    "New_features = p\n",
    "print(New_features.shape)\n",
    "indices = ind\n",
    "importances = imp\n",
    "std = dev\n"
   ]
  },
  {
   "cell_type": "code",
   "execution_count": 18,
   "metadata": {},
   "outputs": [
    {
     "data": {
      "text/plain": [
       "['DecisionTree', 0.2]"
      ]
     },
     "execution_count": 18,
     "metadata": {},
     "output_type": "execute_result"
    }
   ],
   "source": []
  },
  {
   "cell_type": "code",
   "execution_count": null,
   "metadata": {},
   "outputs": [],
   "source": [
    "i = [1,1,1,1,1,1]\n",
    "i"
   ]
  },
  {
   "cell_type": "code",
   "execution_count": null,
   "metadata": {
    "collapsed": true
   },
   "outputs": [],
   "source": [
    "del i[2:]"
   ]
  },
  {
   "cell_type": "code",
   "execution_count": null,
   "metadata": {},
   "outputs": [],
   "source": [
    "i"
   ]
  },
  {
   "cell_type": "code",
   "execution_count": null,
   "metadata": {},
   "outputs": [],
   "source": [
    "models[]"
   ]
  },
  {
   "cell_type": "code",
   "execution_count": 108,
   "metadata": {},
   "outputs": [
    {
     "data": {
      "text/plain": [
       "[0.51901413904976634,\n",
       " 0.5770160839221018,\n",
       " 0.62259149935888058,\n",
       " 0.65008648657952028,\n",
       " 0.65430324518299876,\n",
       " 0.93994991523454641]"
      ]
     },
     "execution_count": 108,
     "metadata": {},
     "output_type": "execute_result"
    }
   ],
   "source": [
    "AccuracyRFE"
   ]
  },
  {
   "cell_type": "code",
   "execution_count": null,
   "metadata": {},
   "outputs": [],
   "source": [
    "feature_selec"
   ]
  },
  {
   "cell_type": "code",
   "execution_count": 72,
   "metadata": {},
   "outputs": [
    {
     "data": {
      "text/plain": [
       "[0.67370033475899938,\n",
       " 0.67431133447501357,\n",
       " 0.92663700592927889,\n",
       " 0.9395884787828197,\n",
       " 0.94029414042666715,\n",
       " 0.94045764739292448]"
      ]
     },
     "execution_count": 72,
     "metadata": {},
     "output_type": "execute_result"
    }
   ],
   "source": [
    "AccuracyKBest"
   ]
  },
  {
   "cell_type": "code",
   "execution_count": 19,
   "metadata": {},
   "outputs": [
    {
     "data": {
      "text/plain": [
       "[0.41420617367882068,\n",
       " 0.91408139204667693,\n",
       " 0.92150805056668073,\n",
       " 0.92231697976816429,\n",
       " 0.92491587996867553,\n",
       " 0.92163713501372602]"
      ]
     },
     "execution_count": 19,
     "metadata": {},
     "output_type": "execute_result"
    }
   ],
   "source": [
    "AccuracyPCA"
   ]
  },
  {
   "cell_type": "code",
   "execution_count": 107,
   "metadata": {},
   "outputs": [
    {
     "data": {
      "image/png": "[encoded data removed]",
      "text/plain": [
       "<matplotlib.figure.Figure at 0xc553d30>"
      ]
     },
     "metadata": {},
     "output_type": "display_data"
    }
   ],
   "source": [
    "import numpy as np\n",
    "import matplotlib.pyplot as plt\n",
    "\n",
    "# Make some fake data.\n",
    "a = No_Components\n",
    "b = AccuracyPCA\n",
    "c = AccuracyKBest\n",
    "d = AccuracyRFE\n",
    "\n",
    "# Create plots with pre-defined labels.\n",
    "plt.subplot(221)\n",
    "plt.title('Decision Tree Using PCA',fontsize = 15)\n",
    "plt.plot(a, b, 'k--', label='Accuracy')\n",
    "plt.xlabel(\"No Of Features\")\n",
    "plt.ylabel(\"Accuracy\")\n",
    "#legend = ax1.legend(loc='upper center', shadow=True, fontsize='x-large')\n",
    "\n",
    "plt.subplot(222)\n",
    "plt.title('Decision Tree Using Univariate KBest',fontsize = 15)\n",
    "plt.plot(a, c, 'k--', label='Accuracy')\n",
    "plt.xlabel(\"No Of Features\")\n",
    "plt.ylabel(\"Accuracy\")\n",
    "plt.subplots_adjust(left = 0.2, wspace = 0.8, top = 0.8, bottom = 0.002,hspace = 0.7)\n",
    "                    \n",
    "plt.subplot(223)\n",
    "plt.title('Decision Tree Using Recursive \\nFeature Elimination',fontsize = 15)\n",
    "plt.plot(a, d, 'k--', label='Accuracy')\n",
    "plt.xlabel(\"No Of Features\")\n",
    "plt.ylabel(\"Accuracy\")\n",
    "\n",
    "\n",
    "# Put a nicer background color on the legend.\n",
    "legend.get_frame().set_facecolor('#00FFCC')\n",
    "\n",
    "plt.show()"
   ]
  },
  {
   "cell_type": "code",
   "execution_count": 206,
   "metadata": {},
   "outputs": [
    {
     "ename": "ValueError",
     "evalue": "incompatible sizes: argument 'height' must be length 11 or scalar",
     "output_type": "error",
     "traceback": [
      "\u001b[1;31m---------------------------------------------------------------------------\u001b[0m",
      "\u001b[1;31mValueError\u001b[0m                                Traceback (most recent call last)",
      "\u001b[1;32m<ipython-input-206-69a766a22ca3>\u001b[0m in \u001b[0;36m<module>\u001b[1;34m()\u001b[0m\n\u001b[0;32m      6\u001b[0m \u001b[0mplt\u001b[0m\u001b[1;33m.\u001b[0m\u001b[0mtitle\u001b[0m\u001b[1;33m(\u001b[0m\u001b[1;34m\"Feature importances\"\u001b[0m\u001b[1;33m)\u001b[0m\u001b[1;33m\u001b[0m\u001b[0m\n\u001b[0;32m      7\u001b[0m plt.bar(range(New_features.shape[1]), importances[indices],\n\u001b[1;32m----> 8\u001b[1;33m        color=\"r\", yerr=std[indices], align=\"center\")\n\u001b[0m\u001b[0;32m      9\u001b[0m \u001b[0mplt\u001b[0m\u001b[1;33m.\u001b[0m\u001b[0mxticks\u001b[0m\u001b[1;33m(\u001b[0m\u001b[0mrange\u001b[0m\u001b[1;33m(\u001b[0m\u001b[0mNew_features\u001b[0m\u001b[1;33m.\u001b[0m\u001b[0mshape\u001b[0m\u001b[1;33m[\u001b[0m\u001b[1;36m1\u001b[0m\u001b[1;33m]\u001b[0m\u001b[1;33m)\u001b[0m\u001b[1;33m,\u001b[0m \u001b[0mindices\u001b[0m\u001b[1;33m)\u001b[0m\u001b[1;33m\u001b[0m\u001b[0m\n\u001b[0;32m     10\u001b[0m \u001b[0mplt\u001b[0m\u001b[1;33m.\u001b[0m\u001b[0mxlim\u001b[0m\u001b[1;33m(\u001b[0m\u001b[1;33m[\u001b[0m\u001b[1;33m-\u001b[0m\u001b[1;36m1\u001b[0m\u001b[1;33m,\u001b[0m \u001b[0mNew_features\u001b[0m\u001b[1;33m.\u001b[0m\u001b[0mshape\u001b[0m\u001b[1;33m[\u001b[0m\u001b[1;36m1\u001b[0m\u001b[1;33m]\u001b[0m\u001b[1;33m]\u001b[0m\u001b[1;33m)\u001b[0m\u001b[1;33m\u001b[0m\u001b[0m\n",
      "\u001b[1;32mC:\\Users\\Srivatsa\\Anaconda3\\lib\\site-packages\\matplotlib\\pyplot.py\u001b[0m in \u001b[0;36mbar\u001b[1;34m(left, height, width, bottom, hold, data, **kwargs)\u001b[0m\n\u001b[0;32m   2702\u001b[0m     \u001b[1;32mtry\u001b[0m\u001b[1;33m:\u001b[0m\u001b[1;33m\u001b[0m\u001b[0m\n\u001b[0;32m   2703\u001b[0m         ret = ax.bar(left, height, width=width, bottom=bottom, data=data,\n\u001b[1;32m-> 2704\u001b[1;33m                      **kwargs)\n\u001b[0m\u001b[0;32m   2705\u001b[0m     \u001b[1;32mfinally\u001b[0m\u001b[1;33m:\u001b[0m\u001b[1;33m\u001b[0m\u001b[0m\n\u001b[0;32m   2706\u001b[0m         \u001b[0max\u001b[0m\u001b[1;33m.\u001b[0m\u001b[0m_hold\u001b[0m \u001b[1;33m=\u001b[0m \u001b[0mwashold\u001b[0m\u001b[1;33m\u001b[0m\u001b[0m\n",
      "\u001b[1;32mC:\\Users\\Srivatsa\\Anaconda3\\lib\\site-packages\\matplotlib\\__init__.py\u001b[0m in \u001b[0;36minner\u001b[1;34m(ax, *args, **kwargs)\u001b[0m\n\u001b[0;32m   1895\u001b[0m                     warnings.warn(msg % (label_namer, func.__name__),\n\u001b[0;32m   1896\u001b[0m                                   RuntimeWarning, stacklevel=2)\n\u001b[1;32m-> 1897\u001b[1;33m             \u001b[1;32mreturn\u001b[0m \u001b[0mfunc\u001b[0m\u001b[1;33m(\u001b[0m\u001b[0max\u001b[0m\u001b[1;33m,\u001b[0m \u001b[1;33m*\u001b[0m\u001b[0margs\u001b[0m\u001b[1;33m,\u001b[0m \u001b[1;33m**\u001b[0m\u001b[0mkwargs\u001b[0m\u001b[1;33m)\u001b[0m\u001b[1;33m\u001b[0m\u001b[0m\n\u001b[0m\u001b[0;32m   1898\u001b[0m         \u001b[0mpre_doc\u001b[0m \u001b[1;33m=\u001b[0m \u001b[0minner\u001b[0m\u001b[1;33m.\u001b[0m\u001b[0m__doc__\u001b[0m\u001b[1;33m\u001b[0m\u001b[0m\n\u001b[0;32m   1899\u001b[0m         \u001b[1;32mif\u001b[0m \u001b[0mpre_doc\u001b[0m \u001b[1;32mis\u001b[0m \u001b[1;32mNone\u001b[0m\u001b[1;33m:\u001b[0m\u001b[1;33m\u001b[0m\u001b[0m\n",
      "\u001b[1;32mC:\\Users\\Srivatsa\\Anaconda3\\lib\\site-packages\\matplotlib\\axes\\_axes.py\u001b[0m in \u001b[0;36mbar\u001b[1;34m(self, left, height, width, bottom, **kwargs)\u001b[0m\n\u001b[0;32m   2077\u001b[0m         \u001b[1;32mif\u001b[0m \u001b[0mlen\u001b[0m\u001b[1;33m(\u001b[0m\u001b[0mheight\u001b[0m\u001b[1;33m)\u001b[0m \u001b[1;33m!=\u001b[0m \u001b[0mnbars\u001b[0m\u001b[1;33m:\u001b[0m\u001b[1;33m\u001b[0m\u001b[0m\n\u001b[0;32m   2078\u001b[0m             raise ValueError(\"incompatible sizes: argument 'height' \"\n\u001b[1;32m-> 2079\u001b[1;33m                               \"must be length %d or scalar\" % nbars)\n\u001b[0m\u001b[0;32m   2080\u001b[0m         \u001b[1;32mif\u001b[0m \u001b[0mlen\u001b[0m\u001b[1;33m(\u001b[0m\u001b[0mwidth\u001b[0m\u001b[1;33m)\u001b[0m \u001b[1;33m!=\u001b[0m \u001b[0mnbars\u001b[0m\u001b[1;33m:\u001b[0m\u001b[1;33m\u001b[0m\u001b[0m\n\u001b[0;32m   2081\u001b[0m             raise ValueError(\"incompatible sizes: argument 'width' \"\n",
      "\u001b[1;31mValueError\u001b[0m: incompatible sizes: argument 'height' must be length 11 or scalar"
     ]
    }
   ],
   "source": [
    "#importances = clf.feature_importances_\n",
    "#std = np.std([tree.feature_importances_ for tree in clf.estimators_],\n",
    "            # axis=0)\n",
    "#indices = np.argsort(importances)[::-1]\n",
    "plt.figure()\n",
    "plt.title(\"Feature importances\")\n",
    "plt.bar(range(New_features.shape[1]), importances[indices],\n",
    "       color=\"r\", yerr=std[indices], align=\"center\")\n",
    "plt.xticks(range(New_features.shape[1]), indices)\n",
    "plt.xlim([-1, New_features.shape[1]])\n",
    "plt.show()"
   ]
  },
  {
   "cell_type": "code",
   "execution_count": 134,
   "metadata": {},
   "outputs": [],
   "source": [
    "a = np.ndarray(shape = None)"
   ]
  },
  {
   "cell_type": "code",
   "execution_count": 205,
   "metadata": {},
   "outputs": [
    {
     "data": {
      "text/plain": [
       "array([  1.90332768e-01,   5.66770365e-02,   4.43964546e-02,\n",
       "         6.40182163e-02,   5.92951449e-02,   1.00337895e-01,\n",
       "         4.99867095e-02,   5.15398036e-02,   5.11080419e-02,\n",
       "         9.53993542e-02,   1.25138970e-02,   6.21551730e-03,\n",
       "         1.32260066e-02,   2.81954888e-02,   2.41784589e-03,\n",
       "         1.10343437e-02,   3.81291653e-03,   1.26978300e-02,\n",
       "         5.31805217e-04,   4.31260375e-03,   4.41172133e-05,\n",
       "         1.07430558e-04,   1.48118654e-04,   1.62817938e-02,\n",
       "         3.41333043e-03,   1.37615983e-02,   5.38107815e-03,\n",
       "         4.86304380e-04,   0.00000000e+00,   1.08271155e-03,\n",
       "         1.88029657e-03,   7.04332684e-04,   9.50109918e-04,\n",
       "         1.85686014e-03,   9.13227964e-04,   1.79620798e-02,\n",
       "         1.27413719e-02,   4.58137801e-03,   2.53760951e-04,\n",
       "         8.43532114e-04,   9.29189392e-04,   3.09053301e-04,\n",
       "         4.95896385e-03,   3.26154847e-03,   3.12328753e-03,\n",
       "         5.53467292e-03,   4.12421621e-03,   1.11538636e-03,\n",
       "         1.84362336e-03,   1.11955121e-04,   5.80232116e-04,\n",
       "         1.09439985e-02,   1.41598266e-02,   7.56093401e-03])"
      ]
     },
     "execution_count": 205,
     "metadata": {},
     "output_type": "execute_result"
    }
   ],
   "source": [
    "importances"
   ]
  },
  {
   "cell_type": "code",
   "execution_count": 204,
   "metadata": {},
   "outputs": [
    {
     "data": {
      "text/plain": [
       "11"
      ]
     },
     "execution_count": 204,
     "metadata": {},
     "output_type": "execute_result"
    }
   ],
   "source": [
    "New_features.shape[1]"
   ]
  },
  {
   "cell_type": "code",
   "execution_count": 203,
   "metadata": {},
   "outputs": [
    {
     "data": {
      "text/plain": [
       "array([ 0,  5,  9,  3,  4,  1,  7,  8,  6,  2, 13, 35, 23, 52, 25, 12, 36,\n",
       "       17, 10, 15, 51, 53, 11, 45, 26, 42, 37, 19, 46, 16, 24, 43, 44, 14,\n",
       "       30, 33, 48, 47, 29, 32, 40, 34, 39, 31, 50, 18, 27, 41, 38, 22, 49,\n",
       "       21, 20, 28], dtype=int64)"
      ]
     },
     "execution_count": 203,
     "metadata": {},
     "output_type": "execute_result"
    }
   ],
   "source": [
    "indices"
   ]
  },
  {
   "cell_type": "code",
   "execution_count": 202,
   "metadata": {},
   "outputs": [
    {
     "data": {
      "text/plain": [
       "array([  2.48577740e-02,   2.17584406e-03,   2.77662259e-03,\n",
       "         2.47459341e-03,   1.77803163e-03,   5.16940530e-03,\n",
       "         9.06715713e-04,   1.84038636e-03,   1.39652595e-03,\n",
       "         4.34492435e-03,   6.38785945e-03,   2.77229530e-03,\n",
       "         3.77440004e-03,   2.32531451e-02,   2.98547415e-03,\n",
       "         3.43777686e-03,   2.02415260e-03,   3.27081507e-03,\n",
       "         5.44353457e-04,   4.11357797e-03,   3.47557217e-05,\n",
       "         7.34661658e-05,   1.23840831e-04,   1.01666312e-02,\n",
       "         1.61828838e-03,   9.55446694e-03,   1.99100417e-03,\n",
       "         1.94890506e-04,   0.00000000e+00,   3.41115250e-04,\n",
       "         5.08874751e-04,   5.51139756e-04,   2.57508112e-04,\n",
       "         8.34085726e-04,   3.48255468e-04,   7.30602968e-03,\n",
       "         5.17478954e-03,   1.65819424e-03,   1.58143323e-04,\n",
       "         5.78535643e-04,   3.60653348e-04,   2.25386194e-04,\n",
       "         2.72270794e-03,   1.63815388e-03,   7.91670963e-04,\n",
       "         3.04282475e-03,   1.65969568e-03,   3.61477711e-04,\n",
       "         8.19417543e-04,   1.02811665e-04,   3.26033960e-04,\n",
       "         6.49449874e-03,   4.93815987e-03,   3.49296257e-03])"
      ]
     },
     "execution_count": 202,
     "metadata": {},
     "output_type": "execute_result"
    }
   ],
   "source": [
    "std"
   ]
  },
  {
   "cell_type": "code",
   "execution_count": 208,
   "metadata": {},
   "outputs": [
    {
     "data": {
      "text/plain": [
       "range(0, 11)"
      ]
     },
     "execution_count": 208,
     "metadata": {},
     "output_type": "execute_result"
    }
   ],
   "source": [
    "range(New_features.shape[1])"
   ]
  },
  {
   "cell_type": "code",
   "execution_count": null,
   "metadata": {
    "collapsed": true
   },
   "outputs": [],
   "source": []
  }
 ],
 "metadata": {
  "kernelspec": {
   "display_name": "Python 3",
   "language": "python",
   "name": "python3"
  },
  "language_info": {
   "codemirror_mode": {
    "name": "ipython",
    "version": 3
   },
   "file_extension": ".py",
   "mimetype": "text/x-python",
   "name": "python",
   "nbconvert_exporter": "python",
   "pygments_lexer": "ipython3",
   "version": "3.5.3"
  }
 },
 "nbformat": 4,
 "nbformat_minor": 2
}
